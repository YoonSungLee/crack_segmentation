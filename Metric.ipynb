{
 "cells": [
  {
   "cell_type": "code",
   "execution_count": 2,
   "metadata": {},
   "outputs": [],
   "source": [
    "from pathlib import Path\n",
    "import argparse\n",
    "import cv2\n",
    "import numpy as np\n",
    "import os\n",
    "import matplotlib.pyplot as plt\n",
    "\n",
    "\n",
    "def dice(y_true, y_pred):\n",
    "    return (2 * (y_true * y_pred).sum() + 1e-15) / (y_true.sum() + y_pred.sum() + 1e-15)\n",
    "\n",
    "\n",
    "def general_dice(y_true, y_pred):\n",
    "    if y_true.sum() == 0:\n",
    "        if y_pred.sum() == 0:\n",
    "            return 1\n",
    "        else:\n",
    "            return 0\n",
    "\n",
    "    return dice(y_true, y_pred)\n",
    "\n",
    "\n",
    "def jaccard(y_true, y_pred):\n",
    "    intersection = (y_true * y_pred).sum()\n",
    "    union = y_true.sum() + y_pred.sum() - intersection\n",
    "    return (intersection + 1e-15) / (union + 1e-15)\n",
    "\n",
    "\n",
    "def general_jaccard(y_true, y_pred):\n",
    "    if y_true.sum() == 0:\n",
    "        if y_pred.sum() == 0:\n",
    "            return 1\n",
    "        else:\n",
    "            return 0\n",
    "\n",
    "    return jaccard(y_true, y_pred)"
   ]
  },
  {
   "cell_type": "markdown",
   "metadata": {},
   "source": [
    "# per image"
   ]
  },
  {
   "cell_type": "code",
   "execution_count": 7,
   "metadata": {},
   "outputs": [
    {
     "name": "stdout",
     "output_type": "stream",
     "text": [
      "Dice =  0.2499\n",
      "Jaccard =  0.1428\n"
     ]
    }
   ],
   "source": [
    "ground_truth_dir = '/home/jovyan/work/hangman/dataset/crack_segmentation_dataset/minimal_06/test/masks'\n",
    "pred_dir = 'test_results/exp32/pred'\n",
    "\n",
    "image_name = 'cracktree200_6256.jpg'\n",
    "ground_truth_dir = os.path.join(ground_truth_dir, image_name)\n",
    "pred_dir = os.path.join(pred_dir, image_name)\n",
    "threshold = 0.5\n",
    "\n",
    "y_true = (cv2.imread(ground_truth_dir, 0) > 0).astype(np.uint8)\n",
    "# y_pred = (cv2.imread(pred_dir, 0) > 255 * threshold).astype(np.uint8)    # threshold\n",
    "y_pred = (cv2.imread(pred_dir, 0) > 0).astype(np.uint8)    # probability\n",
    "\n",
    "print('Dice = ', round(dice(y_true, y_pred),4))\n",
    "print('Jaccard = ', round(jaccard(y_true, y_pred),4))"
   ]
  },
  {
   "cell_type": "markdown",
   "metadata": {},
   "source": [
    "# images"
   ]
  },
  {
   "cell_type": "code",
   "execution_count": 5,
   "metadata": {},
   "outputs": [
    {
     "name": "stdout",
     "output_type": "stream",
     "text": [
      "Deep Mask\n",
      "Dice = 0.6278 0.1649\n",
      "Jaccard = 0.4769 0.1635\n",
      "------------------------------\n",
      "Thin Mask\n",
      "Dice = 0.0186 0.0209\n",
      "Jaccard = 0.0095 0.0108\n",
      "------------------------------\n",
      "Cvt Mask\n",
      "Dice = 0.6498 0.1991\n",
      "Jaccard = 0.5097 0.1976\n",
      "------------------------------\n",
      "All Mask\n",
      "Dice = 0.6152 0.3928\n",
      "Jaccard = 0.5552 0.3980\n"
     ]
    }
   ],
   "source": [
    "threshold = 0.5\n",
    "ground_truth_dir = '/home/jovyan/work/hangman/dataset/crack_segmentation_dataset/minimal_06/test/masks'\n",
    "all_mask_list = os.listdir(ground_truth_dir)\n",
    "all_mask_list = [mask for mask in all_mask_list if not mask.endswith('.ipynb_checkpoints')]\n",
    "pred_dir = 'test_results/exp30/pred'\n",
    "\n",
    "deep_mask_list = [mask for mask in all_mask_list if mask.startswith('CFD') or mask.startswith('DeepCrack')]\n",
    "thin_mask_list = [mask for mask in all_mask_list if 'cracktree200' in mask]\n",
    "cvt_mask_list = [mask for mask in all_mask_list if mask.startswith('cvt')]\n",
    "\n",
    "####################################################################################################\n",
    "# deep crack\n",
    "result_dice = []\n",
    "result_jaccard = []\n",
    "\n",
    "for file_name in deep_mask_list:\n",
    "\n",
    "    y_true = (cv2.imread(os.path.join(ground_truth_dir, file_name), 0) > 0).astype(np.uint8)\n",
    "    y_pred = (cv2.imread(os.path.join(pred_dir, file_name), 0) > 255 * threshold).astype(np.uint8)    # threshold\n",
    "#     y_pred = (cv2.imread(os.path.join(pred_dir, file_name), 0) > 0).astype(np.uint8)    # probability\n",
    "\n",
    "    result_dice += [dice(y_true, y_pred)]\n",
    "    result_jaccard += [jaccard(y_true, y_pred)]\n",
    "print('Deep Mask')\n",
    "print('Dice = %.4f %.4f'%(np.mean(result_dice), np.std(result_dice)))\n",
    "print('Jaccard = %.4f %.4f'%(np.mean(result_jaccard), np.std(result_jaccard)))\n",
    "print('-'*30)\n",
    "####################################################################################################\n",
    "# thin crack\n",
    "result_dice = []\n",
    "result_jaccard = []\n",
    "\n",
    "for file_name in thin_mask_list:\n",
    "\n",
    "    y_true = (cv2.imread(os.path.join(ground_truth_dir, file_name), 0) > 0).astype(np.uint8)\n",
    "    y_pred = (cv2.imread(os.path.join(pred_dir, file_name), 0) > 255 * threshold).astype(np.uint8)    # threshold\n",
    "#     y_pred = (cv2.imread(os.path.join(pred_dir, file_name), 0) > 0).astype(np.uint8)    # probability\n",
    "\n",
    "    result_dice += [dice(y_true, y_pred)]\n",
    "    result_jaccard += [jaccard(y_true, y_pred)]\n",
    "\n",
    "\n",
    "print('Thin Mask')\n",
    "print('Dice = %.4f %.4f'%(np.mean(result_dice), np.std(result_dice)))\n",
    "print('Jaccard = %.4f %.4f'%(np.mean(result_jaccard), np.std(result_jaccard)))\n",
    "print('-'*30)\n",
    "####################################################################################################\n",
    "# cvt crack\n",
    "result_dice = []\n",
    "result_jaccard = []\n",
    "\n",
    "for file_name in cvt_mask_list:\n",
    "\n",
    "    y_true = (cv2.imread(os.path.join(ground_truth_dir, file_name), 0) > 0).astype(np.uint8)\n",
    "    y_pred = (cv2.imread(os.path.join(pred_dir, file_name), 0) > 255 * threshold).astype(np.uint8)    # threshold\n",
    "#     y_pred = (cv2.imread(os.path.join(pred_dir, file_name), 0) > 0).astype(np.uint8)    # probability\n",
    "\n",
    "    result_dice += [dice(y_true, y_pred)]\n",
    "    result_jaccard += [jaccard(y_true, y_pred)]\n",
    "print('Cvt Mask')\n",
    "print('Dice = %.4f %.4f'%(np.mean(result_dice), np.std(result_dice)))\n",
    "print('Jaccard = %.4f %.4f'%(np.mean(result_jaccard), np.std(result_jaccard)))\n",
    "print('-'*30)\n",
    "####################################################################################################\n",
    "# all crack\n",
    "result_dice = []\n",
    "result_jaccard = []\n",
    "\n",
    "for file_name in all_mask_list:\n",
    "\n",
    "    y_true = (cv2.imread(os.path.join(ground_truth_dir, file_name), 0) > 0).astype(np.uint8)\n",
    "    y_pred = (cv2.imread(os.path.join(pred_dir, file_name), 0) > 255 * threshold).astype(np.uint8)    # threshold\n",
    "#     y_pred = (cv2.imread(os.path.join(pred_dir, file_name), 0) > 0).astype(np.uint8)    # probability\n",
    "\n",
    "    result_dice += [dice(y_true, y_pred)]\n",
    "    result_jaccard += [jaccard(y_true, y_pred)]\n",
    "    \n",
    "print('All Mask')\n",
    "print('Dice = %.4f %.4f'%(np.mean(result_dice), np.std(result_dice)))\n",
    "print('Jaccard = %.4f %.4f'%(np.mean(result_jaccard), np.std(result_jaccard)))"
   ]
  },
  {
   "cell_type": "code",
   "execution_count": 4,
   "metadata": {},
   "outputs": [
    {
     "name": "stdout",
     "output_type": "stream",
     "text": [
      "50\n",
      "50\n",
      "50\n",
      "250\n"
     ]
    }
   ],
   "source": [
    "# deep_mask_list = [mask for mask in all_mask_list if mask.startswith('CFD') or mask.startswith('DeepCrack')]\n",
    "# thin_mask_list = [mask for mask in all_mask_list if 'cracktree200' in mask]\n",
    "# cvt_mask_list = [mask for mask in all_mask_list if mask.startswith('cvt')]\n",
    "\n",
    "print(len(deep_mask_list))\n",
    "print(len(thin_mask_list))\n",
    "print(len(cvt_mask_list))\n",
    "print(len(all_mask_list))"
   ]
  }
 ],
 "metadata": {
  "kernelspec": {
   "display_name": "Python 3",
   "language": "python",
   "name": "python3"
  },
  "language_info": {
   "codemirror_mode": {
    "name": "ipython",
    "version": 3
   },
   "file_extension": ".py",
   "mimetype": "text/x-python",
   "name": "python",
   "nbconvert_exporter": "python",
   "pygments_lexer": "ipython3",
   "version": "3.7.6"
  }
 },
 "nbformat": 4,
 "nbformat_minor": 4
}
